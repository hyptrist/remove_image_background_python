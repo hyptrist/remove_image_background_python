{
 "cells": [
  {
   "cell_type": "code",
   "execution_count": null,
   "id": "civilian-judge",
   "metadata": {},
   "outputs": [],
   "source": [
    "import cv2\n",
    "import numpy as np\n",
    "\n",
    "# load image\n",
    "img = cv2.imread('person.png')\n",
    "\n",
    "# convert to graky\n",
    "gray = cv2.cvtColor(img, cv2.COLOR_BGR2GRAY)\n",
    "\n",
    "# threshold input image as mask\n",
    "mask = cv2.threshold(gray, 250, 255, cv2.THRESH_BINARY)[1]\n",
    "\n",
    "# negate mask\n",
    "mask = 255 - mask\n",
    "\n",
    "# apply morphology to remove isolated extraneous noise\n",
    "# use borderconstant of black since foreground touches the edges\n",
    "kernel = np.ones((3,3), np.uint8)\n",
    "mask = cv2.morphologyEx(mask, cv2.MORPH_OPEN, kernel)\n",
    "mask = cv2.morphologyEx(mask, cv2.MORPH_CLOSE, kernel)\n",
    "\n",
    "# anti-alias the mask -- blur then stretch\n",
    "# blur alpha channel\n",
    "mask = cv2.GaussianBlur(mask, (0,0), sigmaX=2, sigmaY=2, borderType = cv2.BORDER_DEFAULT)\n",
    "\n",
    "# linear stretch so that 127.5 goes to 0, but 255 stays 255\n",
    "mask = (2*(mask.astype(np.float32))-255.0).clip(0,255).astype(np.uint8)\n",
    "\n",
    "# put mask into alpha channel\n",
    "result = img.copy()\n",
    "result = cv2.cvtColor(result, cv2.COLOR_BGR2BGRA)\n",
    "result[:, :, 3] = mask\n",
    "\n",
    "# save resulting masked image\n",
    "cv2.imwrite('person_transp_bckgrnd.png', result)\n",
    "\n",
    "# display result, though it won't show transparency\n",
    "cv2.imshow(\"INPUT\", img)\n",
    "cv2.imshow(\"GRAY\", gray)\n",
    "cv2.imshow(\"MASK\", mask)\n",
    "cv2.imshow(\"RESULT\", result)\n",
    "cv2.waitKey(0)\n",
    "cv2.destroyAllWindows()\n"
   ]
  },
  {
   "cell_type": "code",
   "execution_count": null,
   "id": "strategic-fantasy",
   "metadata": {},
   "outputs": [],
   "source": []
  }
 ],
 "metadata": {
  "kernelspec": {
   "display_name": "Python 3",
   "language": "python",
   "name": "python3"
  },
  "language_info": {
   "codemirror_mode": {
    "name": "ipython",
    "version": 3
   },
   "file_extension": ".py",
   "mimetype": "text/x-python",
   "name": "python",
   "nbconvert_exporter": "python",
   "pygments_lexer": "ipython3",
   "version": "3.9.4"
  }
 },
 "nbformat": 4,
 "nbformat_minor": 5
}
